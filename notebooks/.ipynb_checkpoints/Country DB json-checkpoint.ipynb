{
 "cells": [
  {
   "cell_type": "code",
   "execution_count": 2,
   "id": "eae3aca2",
   "metadata": {},
   "outputs": [],
   "source": [
    "#importing required libraries\n",
    "import json\n",
    "from country_list import countries_for_language"
   ]
  },
  {
   "cell_type": "code",
   "execution_count": 4,
   "id": "bd62a6a2",
   "metadata": {},
   "outputs": [],
   "source": [
    "#getting the countries dict\n",
    "countries = dict(countries_for_language('en'))"
   ]
  },
  {
   "cell_type": "code",
   "execution_count": 7,
   "id": "5492d4d4",
   "metadata": {},
   "outputs": [],
   "source": [
    "#defining a .JSON file name\n",
    "file_name = 'country_db.json'\n",
    "#converting the dict to .JSON format\n",
    "json_data = json.dumps(countries, indent=4)"
   ]
  },
  {
   "cell_type": "code",
   "execution_count": 8,
   "id": "a44a51c3",
   "metadata": {},
   "outputs": [],
   "source": [
    "#saving the JSON data to a file\n",
    "with open(file_name, 'w') as json_file:\n",
    "    json_file.write(json_data)"
   ]
  }
 ],
 "metadata": {
  "kernelspec": {
   "display_name": "Python 3 (ipykernel)",
   "language": "python",
   "name": "python3"
  },
  "language_info": {
   "codemirror_mode": {
    "name": "ipython",
    "version": 3
   },
   "file_extension": ".py",
   "mimetype": "text/x-python",
   "name": "python",
   "nbconvert_exporter": "python",
   "pygments_lexer": "ipython3",
   "version": "3.11.4"
  }
 },
 "nbformat": 4,
 "nbformat_minor": 5
}
